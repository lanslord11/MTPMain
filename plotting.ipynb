{
 "cells": [
  {
   "cell_type": "code",
   "execution_count": null,
   "metadata": {},
   "outputs": [
    {
     "ename": "",
     "evalue": "",
     "output_type": "error",
     "traceback": [
      "\u001b[1;31mRunning cells with 'usr (Python 3.12.3)' requires the ipykernel package.\n",
      "\u001b[1;31mRun the following command to install 'ipykernel' into the Python environment. \n",
      "\u001b[1;31mCommand: '/usr/bin/python3 -m pip install ipykernel -U --force-reinstall'"
     ]
    }
   ],
   "source": [
    "import pandas as pd\n",
    "import matplotlib.pyplot as plt\n",
    "\n",
    "df = pd.read_csv('results.csv')\n",
    "\n",
    "# Separate data by network\n",
    "zk_data = df[df['network'] == 'zkEVM']\n",
    "pos_data = df[df['network'] == 'PolygonPoS']\n",
    "\n",
    "# Plot latency comparison\n",
    "plt.figure(figsize=(10,6))\n",
    "plt.plot(zk_data['attempt'], zk_data['latencyMs'], label='zkEVM Latency (ms)', marker='o')\n",
    "plt.plot(pos_data['attempt'], pos_data['latencyMs'], label='PolygonPoS Latency (ms)', marker='o')\n",
    "plt.xlabel('Attempt Number')\n",
    "plt.ylabel('Latency (ms)')\n",
    "plt.title('Latency Comparison: zkEVM vs PolygonPoS')\n",
    "plt.legend()\n",
    "plt.grid(True)\n",
    "plt.savefig('latency_comparison.png')\n",
    "plt.show()\n",
    "\n",
    "# Plot gas usage comparison\n",
    "plt.figure(figsize=(10,6))\n",
    "plt.plot(zk_data['attempt'], zk_data['gasUsed'], label='zkEVM Gas Used', marker='o')\n",
    "plt.plot(pos_data['attempt'], pos_data['gasUsed'], label='PolygonPoS Gas Used', marker='o')\n",
    "plt.xlabel('Attempt Number')\n",
    "plt.ylabel('Gas Used')\n",
    "plt.title('Gas Used Comparison: zkEVM vs PolygonPoS')\n",
    "plt.legend()\n",
    "plt.grid(True)\n",
    "plt.savefig('gas_comparison.png')\n",
    "plt.show()\n"
   ]
  }
 ],
 "metadata": {
  "kernelspec": {
   "display_name": "usr",
   "language": "python",
   "name": "python3"
  },
  "language_info": {
   "name": "python",
   "version": "3.12.3"
  }
 },
 "nbformat": 4,
 "nbformat_minor": 2
}
